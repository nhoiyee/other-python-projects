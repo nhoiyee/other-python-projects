{
 "cells": [
  {
   "cell_type": "code",
   "execution_count": 1,
   "id": "f06e476b-3f06-4ef0-a7ca-2a0a75a30fd5",
   "metadata": {},
   "outputs": [],
   "source": [
    "import pandas as pd"
   ]
  },
  {
   "cell_type": "code",
   "execution_count": 2,
   "id": "12baee05-2e0b-4d2b-b98c-c0ca8a2838f3",
   "metadata": {},
   "outputs": [
    {
     "data": {
      "text/html": [
       "<div>\n",
       "<style scoped>\n",
       "    .dataframe tbody tr th:only-of-type {\n",
       "        vertical-align: middle;\n",
       "    }\n",
       "\n",
       "    .dataframe tbody tr th {\n",
       "        vertical-align: top;\n",
       "    }\n",
       "\n",
       "    .dataframe thead th {\n",
       "        text-align: right;\n",
       "    }\n",
       "</style>\n",
       "<table border=\"1\" class=\"dataframe\">\n",
       "  <thead>\n",
       "    <tr style=\"text-align: right;\">\n",
       "      <th></th>\n",
       "    </tr>\n",
       "  </thead>\n",
       "  <tbody>\n",
       "  </tbody>\n",
       "</table>\n",
       "</div>"
      ],
      "text/plain": [
       "Empty DataFrame\n",
       "Columns: []\n",
       "Index: []"
      ]
     },
     "execution_count": 2,
     "metadata": {},
     "output_type": "execute_result"
    }
   ],
   "source": [
    "df1=pd.DataFrame()\n",
    "df1"
   ]
  },
  {
   "cell_type": "code",
   "execution_count": 3,
   "id": "10b9b4da-4d22-43e1-8c29-9bb65f0a9ab1",
   "metadata": {},
   "outputs": [
    {
     "data": {
      "text/plain": [
       "pandas.core.frame.DataFrame"
      ]
     },
     "execution_count": 3,
     "metadata": {},
     "output_type": "execute_result"
    }
   ],
   "source": [
    "type(df1)"
   ]
  },
  {
   "cell_type": "code",
   "execution_count": 4,
   "id": "b49b53f7-9a55-476a-9b2f-e46c39b0da7f",
   "metadata": {},
   "outputs": [
    {
     "name": "stdout",
     "output_type": "stream",
     "text": [
      "Empty DataFrame\n",
      "Columns: []\n",
      "Index: []\n"
     ]
    }
   ],
   "source": [
    "print(df1)"
   ]
  },
  {
   "cell_type": "code",
   "execution_count": 5,
   "id": "06efb736-f324-42de-b2e1-e31a6fda4342",
   "metadata": {},
   "outputs": [
    {
     "data": {
      "text/plain": [
       "Index([], dtype='object')"
      ]
     },
     "execution_count": 5,
     "metadata": {},
     "output_type": "execute_result"
    }
   ],
   "source": [
    "df1.columns"
   ]
  },
  {
   "cell_type": "code",
   "execution_count": 6,
   "id": "b6c6d5c0-ccbb-4db1-a17e-ebdc91a90081",
   "metadata": {},
   "outputs": [
    {
     "data": {
      "text/plain": [
       "Index([], dtype='object')"
      ]
     },
     "execution_count": 6,
     "metadata": {},
     "output_type": "execute_result"
    }
   ],
   "source": [
    "df1.index"
   ]
  },
  {
   "cell_type": "code",
   "execution_count": 8,
   "id": "f66eb3b4-5f8c-4e11-a6fe-19d2a8506165",
   "metadata": {},
   "outputs": [],
   "source": [
    "students_list=[['bob','william', 26,'computer engineering',86],\n",
    "['emma','johnson', 23,'math',92],\n",
    "['sarah','smith', 22,'chemistry',95],\n",
    "['alex','brown', 21,'electricall engineering',82]]"
   ]
  },
  {
   "cell_type": "code",
   "execution_count": 9,
   "id": "3d555be5-bbf7-44f7-ae85-980af701a2fa",
   "metadata": {},
   "outputs": [
    {
     "data": {
      "text/plain": [
       "[['bob', 'william', 26, 'computer engineering', 86],\n",
       " ['emma', 'johnson', 23, 'math', 92],\n",
       " ['sarah', 'smith', 22, 'chemistry', 95],\n",
       " ['alex', 'brown', 21, 'electricall engineering', 82]]"
      ]
     },
     "execution_count": 9,
     "metadata": {},
     "output_type": "execute_result"
    }
   ],
   "source": [
    "students_list"
   ]
  },
  {
   "cell_type": "code",
   "execution_count": 12,
   "id": "d43393dd-7d6d-4a36-972e-da6f5d82534c",
   "metadata": {},
   "outputs": [
    {
     "data": {
      "text/html": [
       "<div>\n",
       "<style scoped>\n",
       "    .dataframe tbody tr th:only-of-type {\n",
       "        vertical-align: middle;\n",
       "    }\n",
       "\n",
       "    .dataframe tbody tr th {\n",
       "        vertical-align: top;\n",
       "    }\n",
       "\n",
       "    .dataframe thead th {\n",
       "        text-align: right;\n",
       "    }\n",
       "</style>\n",
       "<table border=\"1\" class=\"dataframe\">\n",
       "  <thead>\n",
       "    <tr style=\"text-align: right;\">\n",
       "      <th></th>\n",
       "      <th>0</th>\n",
       "      <th>1</th>\n",
       "      <th>2</th>\n",
       "      <th>3</th>\n",
       "      <th>4</th>\n",
       "    </tr>\n",
       "  </thead>\n",
       "  <tbody>\n",
       "    <tr>\n",
       "      <th>0</th>\n",
       "      <td>bob</td>\n",
       "      <td>william</td>\n",
       "      <td>26</td>\n",
       "      <td>computer engineering</td>\n",
       "      <td>86</td>\n",
       "    </tr>\n",
       "    <tr>\n",
       "      <th>1</th>\n",
       "      <td>emma</td>\n",
       "      <td>johnson</td>\n",
       "      <td>23</td>\n",
       "      <td>math</td>\n",
       "      <td>92</td>\n",
       "    </tr>\n",
       "    <tr>\n",
       "      <th>2</th>\n",
       "      <td>sarah</td>\n",
       "      <td>smith</td>\n",
       "      <td>22</td>\n",
       "      <td>chemistry</td>\n",
       "      <td>95</td>\n",
       "    </tr>\n",
       "    <tr>\n",
       "      <th>3</th>\n",
       "      <td>alex</td>\n",
       "      <td>brown</td>\n",
       "      <td>21</td>\n",
       "      <td>electricall engineering</td>\n",
       "      <td>82</td>\n",
       "    </tr>\n",
       "  </tbody>\n",
       "</table>\n",
       "</div>"
      ],
      "text/plain": [
       "       0        1   2                        3   4\n",
       "0    bob  william  26     computer engineering  86\n",
       "1   emma  johnson  23                     math  92\n",
       "2  sarah    smith  22                chemistry  95\n",
       "3   alex    brown  21  electricall engineering  82"
      ]
     },
     "execution_count": 12,
     "metadata": {},
     "output_type": "execute_result"
    }
   ],
   "source": [
    "students_df= pd.DataFrame(students_list)\n",
    "students_df"
   ]
  },
  {
   "cell_type": "code",
   "execution_count": 13,
   "id": "ea26fcbc-8ae3-42e4-bd9e-c335946b1f90",
   "metadata": {},
   "outputs": [
    {
     "data": {
      "text/html": [
       "<div>\n",
       "<style scoped>\n",
       "    .dataframe tbody tr th:only-of-type {\n",
       "        vertical-align: middle;\n",
       "    }\n",
       "\n",
       "    .dataframe tbody tr th {\n",
       "        vertical-align: top;\n",
       "    }\n",
       "\n",
       "    .dataframe thead th {\n",
       "        text-align: right;\n",
       "    }\n",
       "</style>\n",
       "<table border=\"1\" class=\"dataframe\">\n",
       "  <thead>\n",
       "    <tr style=\"text-align: right;\">\n",
       "      <th></th>\n",
       "      <th>first name</th>\n",
       "      <th>last name</th>\n",
       "      <th>age</th>\n",
       "      <th>major</th>\n",
       "      <th>score</th>\n",
       "    </tr>\n",
       "  </thead>\n",
       "  <tbody>\n",
       "    <tr>\n",
       "      <th>0</th>\n",
       "      <td>bob</td>\n",
       "      <td>william</td>\n",
       "      <td>26</td>\n",
       "      <td>computer engineering</td>\n",
       "      <td>86</td>\n",
       "    </tr>\n",
       "    <tr>\n",
       "      <th>1</th>\n",
       "      <td>emma</td>\n",
       "      <td>johnson</td>\n",
       "      <td>23</td>\n",
       "      <td>math</td>\n",
       "      <td>92</td>\n",
       "    </tr>\n",
       "    <tr>\n",
       "      <th>2</th>\n",
       "      <td>sarah</td>\n",
       "      <td>smith</td>\n",
       "      <td>22</td>\n",
       "      <td>chemistry</td>\n",
       "      <td>95</td>\n",
       "    </tr>\n",
       "    <tr>\n",
       "      <th>3</th>\n",
       "      <td>alex</td>\n",
       "      <td>brown</td>\n",
       "      <td>21</td>\n",
       "      <td>electricall engineering</td>\n",
       "      <td>82</td>\n",
       "    </tr>\n",
       "  </tbody>\n",
       "</table>\n",
       "</div>"
      ],
      "text/plain": [
       "  first name last name  age                    major  score\n",
       "0        bob   william   26     computer engineering     86\n",
       "1       emma   johnson   23                     math     92\n",
       "2      sarah     smith   22                chemistry     95\n",
       "3       alex     brown   21  electricall engineering     82"
      ]
     },
     "execution_count": 13,
     "metadata": {},
     "output_type": "execute_result"
    }
   ],
   "source": [
    "students_df= pd.DataFrame(students_list,columns=\n",
    "['first name','last name','age','major','score'])\n",
    "students_df"
   ]
  },
  {
   "cell_type": "code",
   "execution_count": 14,
   "id": "431ae470-8ef4-44cf-bc8d-e69ac798c217",
   "metadata": {},
   "outputs": [
    {
     "data": {
      "text/html": [
       "<div>\n",
       "<style scoped>\n",
       "    .dataframe tbody tr th:only-of-type {\n",
       "        vertical-align: middle;\n",
       "    }\n",
       "\n",
       "    .dataframe tbody tr th {\n",
       "        vertical-align: top;\n",
       "    }\n",
       "\n",
       "    .dataframe thead th {\n",
       "        text-align: right;\n",
       "    }\n",
       "</style>\n",
       "<table border=\"1\" class=\"dataframe\">\n",
       "  <thead>\n",
       "    <tr style=\"text-align: right;\">\n",
       "      <th></th>\n",
       "      <th>first name</th>\n",
       "      <th>last name</th>\n",
       "      <th>age</th>\n",
       "      <th>major</th>\n",
       "      <th>score</th>\n",
       "    </tr>\n",
       "  </thead>\n",
       "  <tbody>\n",
       "    <tr>\n",
       "      <th>name 1</th>\n",
       "      <td>bob</td>\n",
       "      <td>william</td>\n",
       "      <td>26</td>\n",
       "      <td>computer engineering</td>\n",
       "      <td>86</td>\n",
       "    </tr>\n",
       "    <tr>\n",
       "      <th>name 2</th>\n",
       "      <td>emma</td>\n",
       "      <td>johnson</td>\n",
       "      <td>23</td>\n",
       "      <td>math</td>\n",
       "      <td>92</td>\n",
       "    </tr>\n",
       "    <tr>\n",
       "      <th>name 3</th>\n",
       "      <td>sarah</td>\n",
       "      <td>smith</td>\n",
       "      <td>22</td>\n",
       "      <td>chemistry</td>\n",
       "      <td>95</td>\n",
       "    </tr>\n",
       "    <tr>\n",
       "      <th>name 4</th>\n",
       "      <td>alex</td>\n",
       "      <td>brown</td>\n",
       "      <td>21</td>\n",
       "      <td>electricall engineering</td>\n",
       "      <td>82</td>\n",
       "    </tr>\n",
       "  </tbody>\n",
       "</table>\n",
       "</div>"
      ],
      "text/plain": [
       "       first name last name  age                    major  score\n",
       "name 1        bob   william   26     computer engineering     86\n",
       "name 2       emma   johnson   23                     math     92\n",
       "name 3      sarah     smith   22                chemistry     95\n",
       "name 4       alex     brown   21  electricall engineering     82"
      ]
     },
     "execution_count": 14,
     "metadata": {},
     "output_type": "execute_result"
    }
   ],
   "source": [
    "students_df= pd.DataFrame(students_list,columns=['first name','last name','age','major','score'],\n",
    "index=['name 1','name 2','name 3','name 4'])\n",
    "students_df"
   ]
  },
  {
   "cell_type": "code",
   "execution_count": 17,
   "id": "f97ccb36-b897-4b4e-b629-a3278c35e917",
   "metadata": {},
   "outputs": [
    {
     "data": {
      "text/plain": [
       "{'first name': ['bob', 'geroge', 'alex', 'fiona'],\n",
       " 'last name': ['william', 'johnson', 'smith', 'brown'],\n",
       " 'age': [26, 23, 22, 21],\n",
       " 'major': ['computer engineering',\n",
       "  'math',\n",
       "  'chemistry',\n",
       "  'electrical engineering'],\n",
       " 'score': [86, 92, 95, 82]}"
      ]
     },
     "execution_count": 17,
     "metadata": {},
     "output_type": "execute_result"
    }
   ],
   "source": [
    "students_dict= {'first name':['bob','geroge','alex','fiona'],\n",
    "'last name':['william', 'johnson','smith','brown'],\n",
    "'age':[26,23,22,21],\n",
    "'major':['computer engineering','math',\n",
    "'chemistry','electrical engineering'],'score':[86,92,95,82],}\n",
    "students_dict"
   ]
  },
  {
   "cell_type": "code",
   "execution_count": 30,
   "id": "180ef8cf-e42c-4b89-855a-37b47309870a",
   "metadata": {},
   "outputs": [
    {
     "data": {
      "text/html": [
       "<div>\n",
       "<style scoped>\n",
       "    .dataframe tbody tr th:only-of-type {\n",
       "        vertical-align: middle;\n",
       "    }\n",
       "\n",
       "    .dataframe tbody tr th {\n",
       "        vertical-align: top;\n",
       "    }\n",
       "\n",
       "    .dataframe thead th {\n",
       "        text-align: right;\n",
       "    }\n",
       "</style>\n",
       "<table border=\"1\" class=\"dataframe\">\n",
       "  <thead>\n",
       "    <tr style=\"text-align: right;\">\n",
       "      <th></th>\n",
       "      <th>last name</th>\n",
       "      <th>major</th>\n",
       "    </tr>\n",
       "  </thead>\n",
       "  <tbody>\n",
       "    <tr>\n",
       "      <th>0</th>\n",
       "      <td>william</td>\n",
       "      <td>computer engineering</td>\n",
       "    </tr>\n",
       "    <tr>\n",
       "      <th>1</th>\n",
       "      <td>johnson</td>\n",
       "      <td>math</td>\n",
       "    </tr>\n",
       "    <tr>\n",
       "      <th>2</th>\n",
       "      <td>smith</td>\n",
       "      <td>chemistry</td>\n",
       "    </tr>\n",
       "    <tr>\n",
       "      <th>3</th>\n",
       "      <td>brown</td>\n",
       "      <td>electrical engineering</td>\n",
       "    </tr>\n",
       "  </tbody>\n",
       "</table>\n",
       "</div>"
      ],
      "text/plain": [
       "  last name                   major\n",
       "0   william    computer engineering\n",
       "1   johnson                    math\n",
       "2     smith               chemistry\n",
       "3     brown  electrical engineering"
      ]
     },
     "execution_count": 30,
     "metadata": {},
     "output_type": "execute_result"
    }
   ],
   "source": [
    "students_df3=pd.DataFrame(students_dict,columns=['last name','major'])\n",
    "students_df3"
   ]
  },
  {
   "cell_type": "code",
   "execution_count": 32,
   "id": "f11cc9bc-bc76-408c-9f6e-1b7efc039b08",
   "metadata": {},
   "outputs": [
    {
     "data": {
      "text/html": [
       "<div>\n",
       "<style scoped>\n",
       "    .dataframe tbody tr th:only-of-type {\n",
       "        vertical-align: middle;\n",
       "    }\n",
       "\n",
       "    .dataframe tbody tr th {\n",
       "        vertical-align: top;\n",
       "    }\n",
       "\n",
       "    .dataframe thead th {\n",
       "        text-align: right;\n",
       "    }\n",
       "</style>\n",
       "<table border=\"1\" class=\"dataframe\">\n",
       "  <thead>\n",
       "    <tr style=\"text-align: right;\">\n",
       "      <th></th>\n",
       "      <th>first name</th>\n",
       "      <th>last name</th>\n",
       "      <th>age</th>\n",
       "      <th>major</th>\n",
       "      <th>score</th>\n",
       "    </tr>\n",
       "  </thead>\n",
       "  <tbody>\n",
       "    <tr>\n",
       "      <th>name 1</th>\n",
       "      <td>bob</td>\n",
       "      <td>william</td>\n",
       "      <td>26</td>\n",
       "      <td>computer engineering</td>\n",
       "      <td>86</td>\n",
       "    </tr>\n",
       "    <tr>\n",
       "      <th>name 2</th>\n",
       "      <td>emma</td>\n",
       "      <td>johnson</td>\n",
       "      <td>23</td>\n",
       "      <td>math</td>\n",
       "      <td>92</td>\n",
       "    </tr>\n",
       "    <tr>\n",
       "      <th>name 3</th>\n",
       "      <td>sarah</td>\n",
       "      <td>smith</td>\n",
       "      <td>22</td>\n",
       "      <td>chemistry</td>\n",
       "      <td>95</td>\n",
       "    </tr>\n",
       "    <tr>\n",
       "      <th>name 4</th>\n",
       "      <td>alex</td>\n",
       "      <td>brown</td>\n",
       "      <td>21</td>\n",
       "      <td>electricall engineering</td>\n",
       "      <td>82</td>\n",
       "    </tr>\n",
       "  </tbody>\n",
       "</table>\n",
       "</div>"
      ],
      "text/plain": [
       "       first name last name  age                    major  score\n",
       "name 1        bob   william   26     computer engineering     86\n",
       "name 2       emma   johnson   23                     math     92\n",
       "name 3      sarah     smith   22                chemistry     95\n",
       "name 4       alex     brown   21  electricall engineering     82"
      ]
     },
     "execution_count": 32,
     "metadata": {},
     "output_type": "execute_result"
    }
   ],
   "source": [
    "students_df"
   ]
  },
  {
   "cell_type": "code",
   "execution_count": 33,
   "id": "f3fec6f8-81cc-4b93-8104-d8a92ad5b404",
   "metadata": {},
   "outputs": [
    {
     "data": {
      "text/plain": [
       "Index(['first name', 'last name', 'age', 'major', 'score'], dtype='object')"
      ]
     },
     "execution_count": 33,
     "metadata": {},
     "output_type": "execute_result"
    }
   ],
   "source": [
    "students_df.columns"
   ]
  },
  {
   "cell_type": "code",
   "execution_count": 34,
   "id": "17360dab-97e4-4b50-ab58-aec840bca5d1",
   "metadata": {},
   "outputs": [
    {
     "data": {
      "text/plain": [
       "Index(['name 1', 'name 2', 'name 3', 'name 4'], dtype='object')"
      ]
     },
     "execution_count": 34,
     "metadata": {},
     "output_type": "execute_result"
    }
   ],
   "source": [
    "students_df.index"
   ]
  },
  {
   "cell_type": "code",
   "execution_count": 35,
   "id": "73fe06a1-dc9e-4dae-90f5-7b605c0e6707",
   "metadata": {},
   "outputs": [
    {
     "data": {
      "text/plain": [
       "(4, 5)"
      ]
     },
     "execution_count": 35,
     "metadata": {},
     "output_type": "execute_result"
    }
   ],
   "source": [
    "students_df.shape"
   ]
  },
  {
   "cell_type": "code",
   "execution_count": 36,
   "id": "16a3f591-1b3c-452d-aae1-46a8b5699a72",
   "metadata": {},
   "outputs": [
    {
     "data": {
      "text/html": [
       "<div>\n",
       "<style scoped>\n",
       "    .dataframe tbody tr th:only-of-type {\n",
       "        vertical-align: middle;\n",
       "    }\n",
       "\n",
       "    .dataframe tbody tr th {\n",
       "        vertical-align: top;\n",
       "    }\n",
       "\n",
       "    .dataframe thead th {\n",
       "        text-align: right;\n",
       "    }\n",
       "</style>\n",
       "<table border=\"1\" class=\"dataframe\">\n",
       "  <thead>\n",
       "    <tr style=\"text-align: right;\">\n",
       "      <th></th>\n",
       "      <th>first name</th>\n",
       "      <th>last name</th>\n",
       "      <th>age</th>\n",
       "      <th>major</th>\n",
       "      <th>score</th>\n",
       "    </tr>\n",
       "  </thead>\n",
       "  <tbody>\n",
       "    <tr>\n",
       "      <th>name 1</th>\n",
       "      <td>bob</td>\n",
       "      <td>william</td>\n",
       "      <td>26</td>\n",
       "      <td>computer engineering</td>\n",
       "      <td>86</td>\n",
       "    </tr>\n",
       "    <tr>\n",
       "      <th>name 2</th>\n",
       "      <td>emma</td>\n",
       "      <td>johnson</td>\n",
       "      <td>23</td>\n",
       "      <td>math</td>\n",
       "      <td>92</td>\n",
       "    </tr>\n",
       "  </tbody>\n",
       "</table>\n",
       "</div>"
      ],
      "text/plain": [
       "       first name last name  age                 major  score\n",
       "name 1        bob   william   26  computer engineering     86\n",
       "name 2       emma   johnson   23                  math     92"
      ]
     },
     "execution_count": 36,
     "metadata": {},
     "output_type": "execute_result"
    }
   ],
   "source": [
    "students_df.head(2)"
   ]
  },
  {
   "cell_type": "code",
   "execution_count": 37,
   "id": "6b2738ea-f54a-4a9f-b353-e5264581ccac",
   "metadata": {},
   "outputs": [
    {
     "data": {
      "text/html": [
       "<div>\n",
       "<style scoped>\n",
       "    .dataframe tbody tr th:only-of-type {\n",
       "        vertical-align: middle;\n",
       "    }\n",
       "\n",
       "    .dataframe tbody tr th {\n",
       "        vertical-align: top;\n",
       "    }\n",
       "\n",
       "    .dataframe thead th {\n",
       "        text-align: right;\n",
       "    }\n",
       "</style>\n",
       "<table border=\"1\" class=\"dataframe\">\n",
       "  <thead>\n",
       "    <tr style=\"text-align: right;\">\n",
       "      <th></th>\n",
       "      <th>first name</th>\n",
       "      <th>last name</th>\n",
       "      <th>age</th>\n",
       "      <th>major</th>\n",
       "      <th>score</th>\n",
       "    </tr>\n",
       "  </thead>\n",
       "  <tbody>\n",
       "    <tr>\n",
       "      <th>name 3</th>\n",
       "      <td>sarah</td>\n",
       "      <td>smith</td>\n",
       "      <td>22</td>\n",
       "      <td>chemistry</td>\n",
       "      <td>95</td>\n",
       "    </tr>\n",
       "    <tr>\n",
       "      <th>name 4</th>\n",
       "      <td>alex</td>\n",
       "      <td>brown</td>\n",
       "      <td>21</td>\n",
       "      <td>electricall engineering</td>\n",
       "      <td>82</td>\n",
       "    </tr>\n",
       "  </tbody>\n",
       "</table>\n",
       "</div>"
      ],
      "text/plain": [
       "       first name last name  age                    major  score\n",
       "name 3      sarah     smith   22                chemistry     95\n",
       "name 4       alex     brown   21  electricall engineering     82"
      ]
     },
     "execution_count": 37,
     "metadata": {},
     "output_type": "execute_result"
    }
   ],
   "source": [
    "students_df.tail(2)"
   ]
  },
  {
   "cell_type": "code",
   "execution_count": 41,
   "id": "36b970a9-10b8-494e-bba8-05553be12c87",
   "metadata": {},
   "outputs": [
    {
     "ename": "TypeError",
     "evalue": "Cannot interpret '<attribute 'dtype' of 'numpy.generic' objects>' as a data type",
     "output_type": "error",
     "traceback": [
      "\u001b[1;31m-------------------------------------------------------------------\u001b[0m",
      "\u001b[1;31mTypeError\u001b[0m                         Traceback (most recent call last)",
      "Cell \u001b[1;32mIn[41], line 1\u001b[0m\n\u001b[1;32m----> 1\u001b[0m \u001b[43mstudents_df\u001b[49m\u001b[38;5;241;43m.\u001b[39;49m\u001b[43mdescribe\u001b[49m\u001b[43m(\u001b[49m\u001b[43m)\u001b[49m\n",
      "File \u001b[1;32mc:\\users\\hoi yee\\appdata\\local\\programs\\python\\python38\\lib\\site-packages\\pandas\\core\\generic.py:10265\u001b[0m, in \u001b[0;36mNDFrame.describe\u001b[1;34m(self, percentiles, include, exclude)\u001b[0m\n\u001b[0;32m  10262\u001b[0m     \u001b[38;5;28;01mreturn\u001b[39;00m describe_1d(\u001b[38;5;28mself\u001b[39m)\n\u001b[0;32m  10263\u001b[0m \u001b[38;5;28;01melif\u001b[39;00m (include \u001b[38;5;129;01mis\u001b[39;00m \u001b[38;5;28;01mNone\u001b[39;00m) \u001b[38;5;129;01mand\u001b[39;00m (exclude \u001b[38;5;129;01mis\u001b[39;00m \u001b[38;5;28;01mNone\u001b[39;00m):\n\u001b[0;32m  10264\u001b[0m     \u001b[38;5;66;03m# when some numerics are found, keep only numerics\u001b[39;00m\n\u001b[1;32m> 10265\u001b[0m     data \u001b[38;5;241m=\u001b[39m \u001b[38;5;28;43mself\u001b[39;49m\u001b[38;5;241;43m.\u001b[39;49m\u001b[43mselect_dtypes\u001b[49m\u001b[43m(\u001b[49m\u001b[43minclude\u001b[49m\u001b[38;5;241;43m=\u001b[39;49m\u001b[43m[\u001b[49m\u001b[43mnp\u001b[49m\u001b[38;5;241;43m.\u001b[39;49m\u001b[43mnumber\u001b[49m\u001b[43m]\u001b[49m\u001b[43m)\u001b[49m\n\u001b[0;32m  10266\u001b[0m     \u001b[38;5;28;01mif\u001b[39;00m \u001b[38;5;28mlen\u001b[39m(data\u001b[38;5;241m.\u001b[39mcolumns) \u001b[38;5;241m==\u001b[39m \u001b[38;5;241m0\u001b[39m:\n\u001b[0;32m  10267\u001b[0m         data \u001b[38;5;241m=\u001b[39m \u001b[38;5;28mself\u001b[39m\n",
      "File \u001b[1;32mc:\\users\\hoi yee\\appdata\\local\\programs\\python\\python38\\lib\\site-packages\\pandas\\core\\frame.py:3442\u001b[0m, in \u001b[0;36mDataFrame.select_dtypes\u001b[1;34m(self, include, exclude)\u001b[0m\n\u001b[0;32m   3425\u001b[0m     \u001b[38;5;28;01mraise\u001b[39;00m \u001b[38;5;167;01mValueError\u001b[39;00m(\n\u001b[0;32m   3426\u001b[0m         \u001b[38;5;124m\"\u001b[39m\u001b[38;5;124minclude and exclude overlap on \u001b[39m\u001b[38;5;132;01m{inc_ex}\u001b[39;00m\u001b[38;5;124m\"\u001b[39m\u001b[38;5;241m.\u001b[39mformat(\n\u001b[0;32m   3427\u001b[0m             inc_ex\u001b[38;5;241m=\u001b[39m(include \u001b[38;5;241m&\u001b[39m exclude)\n\u001b[0;32m   3428\u001b[0m         )\n\u001b[0;32m   3429\u001b[0m     )\n\u001b[0;32m   3431\u001b[0m \u001b[38;5;66;03m# empty include/exclude -> defaults to True\u001b[39;00m\n\u001b[0;32m   3432\u001b[0m \u001b[38;5;66;03m# three cases (we've already raised if both are empty)\u001b[39;00m\n\u001b[0;32m   3433\u001b[0m \u001b[38;5;66;03m# case 1: empty include, nonempty exclude\u001b[39;00m\n\u001b[1;32m   (...)\u001b[0m\n\u001b[0;32m   3440\u001b[0m \u001b[38;5;66;03m# the \"union\" of the logic of case 1 and case 2:\u001b[39;00m\n\u001b[0;32m   3441\u001b[0m \u001b[38;5;66;03m# we get the included and excluded, and return their logical and\u001b[39;00m\n\u001b[1;32m-> 3442\u001b[0m include_these \u001b[38;5;241m=\u001b[39m \u001b[43mSeries\u001b[49m\u001b[43m(\u001b[49m\u001b[38;5;129;43;01mnot\u001b[39;49;00m\u001b[43m \u001b[49m\u001b[38;5;28;43mbool\u001b[39;49m\u001b[43m(\u001b[49m\u001b[43minclude\u001b[49m\u001b[43m)\u001b[49m\u001b[43m,\u001b[49m\u001b[43m \u001b[49m\u001b[43mindex\u001b[49m\u001b[38;5;241;43m=\u001b[39;49m\u001b[38;5;28;43mself\u001b[39;49m\u001b[38;5;241;43m.\u001b[39;49m\u001b[43mcolumns\u001b[49m\u001b[43m)\u001b[49m\n\u001b[0;32m   3443\u001b[0m exclude_these \u001b[38;5;241m=\u001b[39m Series(\u001b[38;5;129;01mnot\u001b[39;00m \u001b[38;5;28mbool\u001b[39m(exclude), index\u001b[38;5;241m=\u001b[39m\u001b[38;5;28mself\u001b[39m\u001b[38;5;241m.\u001b[39mcolumns)\n\u001b[0;32m   3445\u001b[0m \u001b[38;5;28;01mdef\u001b[39;00m \u001b[38;5;21mis_dtype_instance_mapper\u001b[39m(idx, dtype):\n",
      "File \u001b[1;32mc:\\users\\hoi yee\\appdata\\local\\programs\\python\\python38\\lib\\site-packages\\pandas\\core\\series.py:314\u001b[0m, in \u001b[0;36mSeries.__init__\u001b[1;34m(self, data, index, dtype, name, copy, fastpath)\u001b[0m\n\u001b[0;32m    312\u001b[0m             data \u001b[38;5;241m=\u001b[39m data\u001b[38;5;241m.\u001b[39mcopy()\n\u001b[0;32m    313\u001b[0m     \u001b[38;5;28;01melse\u001b[39;00m:\n\u001b[1;32m--> 314\u001b[0m         data \u001b[38;5;241m=\u001b[39m \u001b[43msanitize_array\u001b[49m\u001b[43m(\u001b[49m\u001b[43mdata\u001b[49m\u001b[43m,\u001b[49m\u001b[43m \u001b[49m\u001b[43mindex\u001b[49m\u001b[43m,\u001b[49m\u001b[43m \u001b[49m\u001b[43mdtype\u001b[49m\u001b[43m,\u001b[49m\u001b[43m \u001b[49m\u001b[43mcopy\u001b[49m\u001b[43m,\u001b[49m\u001b[43m \u001b[49m\u001b[43mraise_cast_failure\u001b[49m\u001b[38;5;241;43m=\u001b[39;49m\u001b[38;5;28;43;01mTrue\u001b[39;49;00m\u001b[43m)\u001b[49m\n\u001b[0;32m    316\u001b[0m         data \u001b[38;5;241m=\u001b[39m SingleBlockManager(data, index, fastpath\u001b[38;5;241m=\u001b[39m\u001b[38;5;28;01mTrue\u001b[39;00m)\n\u001b[0;32m    318\u001b[0m generic\u001b[38;5;241m.\u001b[39mNDFrame\u001b[38;5;241m.\u001b[39m\u001b[38;5;21m__init__\u001b[39m(\u001b[38;5;28mself\u001b[39m, data, fastpath\u001b[38;5;241m=\u001b[39m\u001b[38;5;28;01mTrue\u001b[39;00m)\n",
      "File \u001b[1;32mc:\\users\\hoi yee\\appdata\\local\\programs\\python\\python38\\lib\\site-packages\\pandas\\core\\internals\\construction.py:712\u001b[0m, in \u001b[0;36msanitize_array\u001b[1;34m(data, index, dtype, copy, raise_cast_failure)\u001b[0m\n\u001b[0;32m    708\u001b[0m     \u001b[38;5;28;01melse\u001b[39;00m:\n\u001b[0;32m    709\u001b[0m         \u001b[38;5;66;03m# need to possibly convert the value here\u001b[39;00m\n\u001b[0;32m    710\u001b[0m         value \u001b[38;5;241m=\u001b[39m maybe_cast_to_datetime(value, dtype)\n\u001b[1;32m--> 712\u001b[0m     subarr \u001b[38;5;241m=\u001b[39m \u001b[43mconstruct_1d_arraylike_from_scalar\u001b[49m\u001b[43m(\u001b[49m\u001b[43mvalue\u001b[49m\u001b[43m,\u001b[49m\u001b[43m \u001b[49m\u001b[38;5;28;43mlen\u001b[39;49m\u001b[43m(\u001b[49m\u001b[43mindex\u001b[49m\u001b[43m)\u001b[49m\u001b[43m,\u001b[49m\u001b[43m \u001b[49m\u001b[43mdtype\u001b[49m\u001b[43m)\u001b[49m\n\u001b[0;32m    714\u001b[0m \u001b[38;5;28;01melse\u001b[39;00m:\n\u001b[0;32m    715\u001b[0m     \u001b[38;5;28;01mreturn\u001b[39;00m subarr\u001b[38;5;241m.\u001b[39mitem()\n",
      "File \u001b[1;32mc:\\users\\hoi yee\\appdata\\local\\programs\\python\\python38\\lib\\site-packages\\pandas\\core\\dtypes\\cast.py:1233\u001b[0m, in \u001b[0;36mconstruct_1d_arraylike_from_scalar\u001b[1;34m(value, length, dtype)\u001b[0m\n\u001b[0;32m   1230\u001b[0m         \u001b[38;5;28;01mif\u001b[39;00m \u001b[38;5;129;01mnot\u001b[39;00m isna(value):\n\u001b[0;32m   1231\u001b[0m             value \u001b[38;5;241m=\u001b[39m ensure_str(value)\n\u001b[1;32m-> 1233\u001b[0m     subarr \u001b[38;5;241m=\u001b[39m \u001b[43mnp\u001b[49m\u001b[38;5;241;43m.\u001b[39;49m\u001b[43mempty\u001b[49m\u001b[43m(\u001b[49m\u001b[43mlength\u001b[49m\u001b[43m,\u001b[49m\u001b[43m \u001b[49m\u001b[43mdtype\u001b[49m\u001b[38;5;241;43m=\u001b[39;49m\u001b[43mdtype\u001b[49m\u001b[43m)\u001b[49m\n\u001b[0;32m   1234\u001b[0m     subarr\u001b[38;5;241m.\u001b[39mfill(value)\n\u001b[0;32m   1236\u001b[0m \u001b[38;5;28;01mreturn\u001b[39;00m subarr\n",
      "\u001b[1;31mTypeError\u001b[0m: Cannot interpret '<attribute 'dtype' of 'numpy.generic' objects>' as a data type"
     ]
    }
   ],
   "source": [
    "students_df.describe()\n"
   ]
  },
  {
   "cell_type": "code",
   "execution_count": null,
   "id": "711f2900-d6b8-4746-900c-cc840d003af8",
   "metadata": {},
   "outputs": [],
   "source": []
  }
 ],
 "metadata": {
  "kernelspec": {
   "display_name": "Python 3 (ipykernel)",
   "language": "python",
   "name": "python3"
  },
  "language_info": {
   "codemirror_mode": {
    "name": "ipython",
    "version": 3
   },
   "file_extension": ".py",
   "mimetype": "text/x-python",
   "name": "python",
   "nbconvert_exporter": "python",
   "pygments_lexer": "ipython3",
   "version": "3.8.10"
  }
 },
 "nbformat": 4,
 "nbformat_minor": 5
}
